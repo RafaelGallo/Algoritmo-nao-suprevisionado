{
 "cells": [
  {
   "cell_type": "code",
   "execution_count": 1,
   "metadata": {},
   "outputs": [],
   "source": [
    "import pandas as pd\n",
    "import numpy as np\n",
    "%matplotlib inline\n",
    "import matplotlib.pyplot as plt\n",
    "\n",
    "from scipy.cluster.hierarchy import dendrogram, linkage\n",
    "from sklearn.cluster import AgglomerativeClustering\n",
    "from sklearn.preprocessing import StandardScaler"
   ]
  },
  {
   "cell_type": "code",
   "execution_count": 2,
   "metadata": {},
   "outputs": [],
   "source": [
    "x = [21,  24,  23,  47,  56, 43, 59,  46,  53,  22,  39,  21,  39,  48,  48]  \n",
    "y = [2000,2200,2300,1950,1000,750,3000,4100,2000,6900,5100,6100,8000,6000,7500]"
   ]
  },
  {
   "cell_type": "code",
   "execution_count": 3,
   "metadata": {},
   "outputs": [
    {
     "data": {
      "text/plain": [
       "[21, 24, 23, 47, 56, 43, 59, 46, 53, 22, 39, 21, 39, 48, 48]"
      ]
     },
     "execution_count": 3,
     "metadata": {},
     "output_type": "execute_result"
    }
   ],
   "source": [
    "x"
   ]
  },
  {
   "cell_type": "code",
   "execution_count": 4,
   "metadata": {},
   "outputs": [
    {
     "data": {
      "text/plain": [
       "[2000,\n",
       " 2200,\n",
       " 2300,\n",
       " 1950,\n",
       " 1000,\n",
       " 750,\n",
       " 3000,\n",
       " 4100,\n",
       " 2000,\n",
       " 6900,\n",
       " 5100,\n",
       " 6100,\n",
       " 8000,\n",
       " 6000,\n",
       " 7500]"
      ]
     },
     "execution_count": 4,
     "metadata": {},
     "output_type": "execute_result"
    }
   ],
   "source": [
    "y"
   ]
  },
  {
   "cell_type": "code",
   "execution_count": 5,
   "metadata": {},
   "outputs": [
    {
     "data": {
      "text/plain": [
       "<matplotlib.collections.PathCollection at 0x18cfbfe6608>"
      ]
     },
     "execution_count": 5,
     "metadata": {},
     "output_type": "execute_result"
    },
    {
     "data": {
      "image/png": "[encoded data removed]",
      "text/plain": [
       "<Figure size 432x288 with 1 Axes>"
      ]
     },
     "metadata": {
      "needs_background": "light"
     },
     "output_type": "display_data"
    }
   ],
   "source": [
    "plt.scatter(x,y)"
   ]
  },
  {
   "cell_type": "code",
   "execution_count": 6,
   "metadata": {},
   "outputs": [
    {
     "data": {
      "text/plain": [
       "array([[  30, 2000],\n",
       "       [  23, 4200],\n",
       "       [  21, 3900],\n",
       "       [  47, 1850],\n",
       "       [  26,  900],\n",
       "       [  53,  950],\n",
       "       [  55, 2000],\n",
       "       [  47, 2100],\n",
       "       [  52, 3000],\n",
       "       [  32, 5900],\n",
       "       [  39, 4100],\n",
       "       [  41, 5100],\n",
       "       [  39, 7000],\n",
       "       [  48, 5000],\n",
       "       [  48, 6500]])"
      ]
     },
     "execution_count": 6,
     "metadata": {},
     "output_type": "execute_result"
    }
   ],
   "source": [
    "df = np.array([[30,2000],[23,4200],[21,3900],[47,1850],[26,900],\n",
    "                 [53,950],[55,2000],[47,2100],[52,3000],[32,5900],\n",
    "                 [39,4100],[41,5100],[39,7000],[48,5000],[48,6500]])\n",
    "\n",
    "df"
   ]
  },
  {
   "cell_type": "code",
   "execution_count": 7,
   "metadata": {},
   "outputs": [
    {
     "data": {
      "text/plain": [
       "array([[-0.92490207, -0.85098433],\n",
       "       [-1.56804589,  0.29523946],\n",
       "       [-1.75180127,  0.13893622],\n",
       "       [ 0.63701864, -0.92913595],\n",
       "       [-1.29241282, -1.42409623],\n",
       "       [ 1.18828478, -1.39804569],\n",
       "       [ 1.37204015, -0.85098433],\n",
       "       [ 0.63701864, -0.79888325],\n",
       "       [ 1.09640709, -0.32997352],\n",
       "       [-0.74114669,  1.18095785],\n",
       "       [-0.09800287,  0.24313838],\n",
       "       [ 0.08575251,  0.7641492 ],\n",
       "       [-0.09800287,  1.75406974],\n",
       "       [ 0.72889633,  0.71204811],\n",
       "       [ 0.72889633,  1.49356434]])"
      ]
     },
     "execution_count": 7,
     "metadata": {},
     "output_type": "execute_result"
    }
   ],
   "source": [
    "scaler = StandardScaler()\n",
    "df = scaler.fit_transform(df)\n",
    "df"
   ]
  },
  {
   "cell_type": "code",
   "execution_count": 8,
   "metadata": {},
   "outputs": [
    {
     "data": {
      "text/plain": [
       "Text(0, 0.5, 'Pessoas')"
      ]
     },
     "execution_count": 8,
     "metadata": {},
     "output_type": "execute_result"
    },
    {
     "data": {
      "image/png": "[encoded data removed]",
      "text/plain": [
       "<Figure size 432x288 with 1 Axes>"
      ]
     },
     "metadata": {
      "needs_background": "light"
     },
     "output_type": "display_data"
    }
   ],
   "source": [
    "dendrograma = dendrogram(linkage(df, method = \"ward\"))\n",
    "plt.title(\"Cluster do dados\")\n",
    "plt.xlabel(\"Vendas\")\n",
    "plt.ylabel(\"Pessoas\")"
   ]
  },
  {
   "cell_type": "code",
   "execution_count": 9,
   "metadata": {},
   "outputs": [
    {
     "data": {
      "text/plain": [
       "{'icoord': [[5.0, 5.0, 15.0, 15.0],\n",
       "  [35.0, 35.0, 45.0, 45.0],\n",
       "  [25.0, 25.0, 40.0, 40.0],\n",
       "  [10.0, 10.0, 32.5, 32.5],\n",
       "  [55.0, 55.0, 65.0, 65.0],\n",
       "  [75.0, 75.0, 85.0, 85.0],\n",
       "  [95.0, 95.0, 105.0, 105.0],\n",
       "  [80.0, 80.0, 100.0, 100.0],\n",
       "  [60.0, 60.0, 90.0, 90.0],\n",
       "  [115.0, 115.0, 125.0, 125.0],\n",
       "  [135.0, 135.0, 145.0, 145.0],\n",
       "  [120.0, 120.0, 140.0, 140.0],\n",
       "  [75.0, 75.0, 130.0, 130.0],\n",
       "  [21.25, 21.25, 102.5, 102.5]],\n",
       " 'dcoord': [[0.0, 0.5770980559224019, 0.5770980559224019, 0.0],\n",
       "  [0.0, 0.13025270382092546, 0.13025270382092546, 0.0],\n",
       "  [0.0, 0.8134144361649313, 0.8134144361649313, 0.13025270382092546],\n",
       "  [0.5770980559224019,\n",
       "   1.0187187199905086,\n",
       "   1.0187187199905086,\n",
       "   0.8134144361649313],\n",
       "  [0.0, 0.8614471675072113, 0.8614471675072113, 0.0],\n",
       "  [0.0, 0.5524656627438944, 0.5524656627438944, 0.0],\n",
       "  [0.0, 0.7815162229255531, 0.7815162229255531, 0.0],\n",
       "  [0.5524656627438944,\n",
       "   1.341083329624019,\n",
       "   1.341083329624019,\n",
       "   0.7815162229255531],\n",
       "  [0.8614471675072113,\n",
       "   1.6742589786922344,\n",
       "   1.6742589786922344,\n",
       "   1.341083329624019],\n",
       "  [0.0, 0.24124001147466276, 0.24124001147466276, 0.0],\n",
       "  [0.0, 0.6808240607832404, 0.6808240607832404, 0.0],\n",
       "  [0.24124001147466276,\n",
       "   2.0682899664215633,\n",
       "   2.0682899664215633,\n",
       "   0.6808240607832404],\n",
       "  [1.6742589786922344,\n",
       "   4.601471113959536,\n",
       "   4.601471113959536,\n",
       "   2.0682899664215633],\n",
       "  [1.0187187199905086,\n",
       "   5.071267936774335,\n",
       "   5.071267936774335,\n",
       "   4.601471113959536]],\n",
       " 'ivl': ['5',\n",
       "  '6',\n",
       "  '8',\n",
       "  '3',\n",
       "  '7',\n",
       "  '9',\n",
       "  '12',\n",
       "  '10',\n",
       "  '11',\n",
       "  '13',\n",
       "  '14',\n",
       "  '1',\n",
       "  '2',\n",
       "  '0',\n",
       "  '4'],\n",
       " 'leaves': [5, 6, 8, 3, 7, 9, 12, 10, 11, 13, 14, 1, 2, 0, 4],\n",
       " 'color_list': ['C1',\n",
       "  'C1',\n",
       "  'C1',\n",
       "  'C1',\n",
       "  'C2',\n",
       "  'C2',\n",
       "  'C2',\n",
       "  'C2',\n",
       "  'C2',\n",
       "  'C3',\n",
       "  'C3',\n",
       "  'C3',\n",
       "  'C0',\n",
       "  'C0']}"
      ]
     },
     "execution_count": 9,
     "metadata": {},
     "output_type": "execute_result"
    }
   ],
   "source": [
    "dendrograma"
   ]
  },
  {
   "cell_type": "code",
   "execution_count": 10,
   "metadata": {},
   "outputs": [
    {
     "data": {
      "text/plain": [
       "array([0, 0, 0, 1, 0, 1, 1, 1, 1, 2, 2, 2, 2, 2, 2], dtype=int64)"
      ]
     },
     "execution_count": 10,
     "metadata": {},
     "output_type": "execute_result"
    }
   ],
   "source": [
    "hc = AgglomerativeClustering(n_clusters = 3, affinity = \"euclidean\", linkage = \"ward\")\n",
    "df1 = hc.fit_predict(df)\n",
    "df1"
   ]
  },
  {
   "cell_type": "code",
   "execution_count": 11,
   "metadata": {},
   "outputs": [
    {
     "data": {
      "text/plain": [
       "array([[-0.92490207, -0.85098433],\n",
       "       [-1.56804589,  0.29523946],\n",
       "       [-1.75180127,  0.13893622],\n",
       "       [ 0.63701864, -0.92913595],\n",
       "       [-1.29241282, -1.42409623],\n",
       "       [ 1.18828478, -1.39804569],\n",
       "       [ 1.37204015, -0.85098433],\n",
       "       [ 0.63701864, -0.79888325],\n",
       "       [ 1.09640709, -0.32997352],\n",
       "       [-0.74114669,  1.18095785],\n",
       "       [-0.09800287,  0.24313838],\n",
       "       [ 0.08575251,  0.7641492 ],\n",
       "       [-0.09800287,  1.75406974],\n",
       "       [ 0.72889633,  0.71204811],\n",
       "       [ 0.72889633,  1.49356434]])"
      ]
     },
     "execution_count": 11,
     "metadata": {},
     "output_type": "execute_result"
    }
   ],
   "source": [
    "df"
   ]
  },
  {
   "cell_type": "code",
   "execution_count": 12,
   "metadata": {},
   "outputs": [
    {
     "data": {
      "text/plain": [
       "<matplotlib.legend.Legend at 0x18cfc155548>"
      ]
     },
     "execution_count": 12,
     "metadata": {},
     "output_type": "execute_result"
    },
    {
     "data": {
      "image/png": "[encoded data removed]",
      "text/plain": [
       "<Figure size 432x288 with 1 Axes>"
      ]
     },
     "metadata": {
      "needs_background": "light"
     },
     "output_type": "display_data"
    }
   ],
   "source": [
    "plt.scatter(df[df1 == 0, 0], df[df1 == 0, 1], s = 100, c = 'red', label = 'Cluster 1')\n",
    "plt.scatter(df[df1 == 1, 0], df[df1 == 1, 1], s = 100, c = 'blue', label = 'Cluster 2')\n",
    "plt.scatter(df[df1 == 2, 0], df[df1 == 2, 1], s = 100, c = 'green', label = 'Cluster 3')\n",
    "\n",
    "plt.xlabel('Idade')\n",
    "plt.ylabel('Salário')\n",
    "plt.legend()"
   ]
  },
  {
   "cell_type": "code",
   "execution_count": null,
   "metadata": {},
   "outputs": [],
   "source": []
  }
 ],
 "metadata": {
  "kernelspec": {
   "display_name": "Python 3",
   "language": "python",
   "name": "python3"
  },
  "language_info": {
   "codemirror_mode": {
    "name": "ipython",
    "version": 3
   },
   "file_extension": ".py",
   "mimetype": "text/x-python",
   "name": "python",
   "nbconvert_exporter": "python",
   "pygments_lexer": "ipython3",
   "version": "3.7.7"
  }
 },
 "nbformat": 4,
 "nbformat_minor": 4
}
